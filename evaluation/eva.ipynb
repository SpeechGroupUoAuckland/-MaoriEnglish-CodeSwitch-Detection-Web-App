{
 "cells": [
  {
   "cell_type": "code",
   "execution_count": 1,
   "metadata": {},
   "outputs": [],
   "source": [
    "import os, sys, json\n",
    "import numpy as np\n",
    "import pandas as pd\n",
    "import matplotlib.pyplot as plt"
   ]
  },
  {
   "cell_type": "code",
   "execution_count": 2,
   "metadata": {},
   "outputs": [],
   "source": [
    "path = os.getcwd()\n",
    "\n",
    "# walk through the directory\n",
    "def walk_dir(path):\n",
    "    for root, dirs, files in os.walk(path):\n",
    "        for file in files:\n",
    "            if file.endswith('.json'):\n",
    "                yield file\n",
    "\n",
    "# read json file\n",
    "def read_json(file):\n",
    "    with open(file, 'r') as f:\n",
    "        data = json.load(f)\n",
    "    return data\n",
    "\n",
    "# find number index\n",
    "def find_index(l: list[int], n: int) -> int:\n",
    "    for i, v in enumerate(l):\n",
    "        if v == n:\n",
    "            return i\n",
    "    return -1"
   ]
  },
  {
   "cell_type": "code",
   "execution_count": 4,
   "metadata": {},
   "outputs": [
    {
     "name": "stdout",
     "output_type": "stream",
     "text": [
      "Confusion Matrix for full_size_bilstm:\n",
      "Maori\n",
      "\tPrecision: 0.7039019539019539\n",
      "\tRecall: 0.9504859639145944\n",
      "\tF1-score: 0.8088174725536825\n",
      "English\n",
      "\tPrecision: 0.7039019539019539\n",
      "\tRecall: 0.9504859639145944\n",
      "\tF1-score: 0.8088174725536825\n"
     ]
    },
    {
     "data": {
      "image/png": "[encoded data removed]",
      "text/plain": [
       "<Figure size 1440x360 with 1 Axes>"
      ]
     },
     "metadata": {
      "needs_background": "light"
     },
     "output_type": "display_data"
    }
   ],
   "source": [
    "all_result_dict = {file.split('_err')[0]:read_json(file) for file in walk_dir(path)}\n",
    "\n",
    "count_to_filter = 5\n",
    "\n",
    "for key in all_result_dict:\n",
    "    model_name = key\n",
    "    result_dict = all_result_dict[key]\n",
    "    for key in result_dict:\n",
    "        if key == 'confusion_matrix':\n",
    "            cm_maori = np.array(result_dict[key])\n",
    "            cm_english = np.rot90(np.rot90(cm_maori))\n",
    "\n",
    "            # calculate precision, recall, f1-score\n",
    "            precision_maori = 0\n",
    "            recall_maori = 0\n",
    "            f1_maori = 0\n",
    "            precision_english = 0\n",
    "            recall_english = 0\n",
    "            f1_english = 0\n",
    "\n",
    "            for i in range(len(cm_maori)):\n",
    "                precision_maori += cm_maori[i][i] / sum(cm_maori[i])\n",
    "                recall_maori += cm_maori[i][i] / sum(cm_maori[:, i])\n",
    "                precision_english += cm_english[i][i] / sum(cm_english[i])\n",
    "                recall_english += cm_english[i][i] / sum(cm_english[:, i])\n",
    "\n",
    "            precision_maori /= len(cm_maori)\n",
    "            recall_maori /= len(cm_maori)\n",
    "            f1_maori = 2 * precision_maori * recall_maori / (precision_maori + recall_maori)\n",
    "            precision_english /= len(cm_english)\n",
    "            recall_english /= len(cm_english)\n",
    "            f1_english = 2 * precision_english * recall_english / (precision_english + recall_english)\n",
    "\n",
    "            print(f'Confusion Matrix for {model_name}:')\n",
    "            print('Maori')\n",
    "            print(f'\\tPrecision: {precision_maori}')\n",
    "            print(f'\\tRecall: {recall_maori}')\n",
    "            print(f'\\tF1-score: {f1_maori}')\n",
    "            print('English')\n",
    "            print(f'\\tPrecision: {precision_english}')\n",
    "            print(f'\\tRecall: {recall_english}')\n",
    "            print(f'\\tF1-score: {f1_english}')\n",
    "\n",
    "        else:\n",
    "            predict_result = key\n",
    "            word_error_dict = result_dict[key]\n",
    "\n",
    "            # sort the word error dict by value in descending order\n",
    "            word_error_dict = dict(sorted(word_error_dict.items(), key=lambda item: item[1], reverse=True))\n",
    "\n",
    "            error_word_list = list(word_error_dict.keys())\n",
    "            error_word_count_list = list(word_error_dict.values())\n",
    "\n",
    "            c_index = find_index(error_word_count_list, count_to_filter)\n",
    "\n",
    "\n",
    "            plt.figure(figsize=(20, 5))\n",
    "            plt.title(model_name + ' - ' + predict_result)\n",
    "            plt.xlabel('word')\n",
    "            plt.ylabel('count')\n",
    "            plt.bar(error_word_list[:c_index], error_word_count_list[:c_index])\n",
    "            plt.show()\n",
    "            break"
   ]
  }
 ],
 "metadata": {
  "kernelspec": {
   "display_name": "Python 3.9.12 ('dev')",
   "language": "python",
   "name": "python3"
  },
  "language_info": {
   "codemirror_mode": {
    "name": "ipython",
    "version": 3
   },
   "file_extension": ".py",
   "mimetype": "text/x-python",
   "name": "python",
   "nbconvert_exporter": "python",
   "pygments_lexer": "ipython3",
   "version": "3.9.12"
  },
  "orig_nbformat": 4,
  "vscode": {
   "interpreter": {
    "hash": "48caaebc5ae0c247be4f972c3642ff874087c1f9cc458b6f1157e23ba1abcd1f"
   }
  }
 },
 "nbformat": 4,
 "nbformat_minor": 2
}
